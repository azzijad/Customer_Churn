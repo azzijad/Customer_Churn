{
 "cells": [
  {
   "cell_type": "code",
   "execution_count": 2,
   "id": "832d07ad",
   "metadata": {},
   "outputs": [],
   "source": [
    "import pandas as pd\n",
    "import numpy as np\n",
    "from sklearn.linear_model import LogisticRegression\n",
    "from sklearn.model_selection import train_test_split\n",
    "from sklearn.preprocessing import MinMaxScaler\n",
    "from sklearn.datasets import load_iris\n"
   ]
  },
  {
   "cell_type": "code",
   "execution_count": 3,
   "id": "46a07047",
   "metadata": {},
   "outputs": [],
   "source": [
    "data = pd.read_csv('telecom_customer_churn.csv')"
   ]
  },
  {
   "cell_type": "code",
   "execution_count": 4,
   "id": "88cc5ef7",
   "metadata": {},
   "outputs": [
    {
     "name": "stdout",
     "output_type": "stream",
     "text": [
      "Customer ID: ['0002-ORFBO' '0003-MKNFE' '0004-TLHLJ' ... '9992-UJOEL' '9993-LHIEB'\n",
      " '9995-HOTOH']\n",
      "Gender: ['Female' 'Male']\n",
      "Age: [37 46 50 78 75 23 67 52 68 43 47 25 58 32 39 72 79 26 30 22 34 42 64 48\n",
      " 28 33 31 60 69 20 57 19 38 54 35 51 66 61 24 55 59 71 49 40 21 45 29 62\n",
      " 76 77 73 41 56 80 63 53 44 70 74 36 27 65]\n",
      "Married: ['Yes' 'No']\n",
      "Number of Dependents: [0 3 1 2 4 6 5 9 7 8]\n",
      "City: ['Frazier Park' 'Glendale' 'Costa Mesa' ... 'Jacumba' 'Carpinteria'\n",
      " 'Meadow Valley']\n",
      "Zip Code: [93225 91206 92627 ... 91934 93013 95956]\n",
      "Latitude: [34.827662 34.162515 33.645672 ... 32.649787 34.441398 39.937017]\n",
      "Longitude: [-118.999073 -118.203869 -117.922613 ... -116.2237   -119.513163\n",
      " -121.058043]\n",
      "Number of Referrals: [ 2  0  1  3  8  9 10  5  4  7  6 11]\n",
      "Tenure in Months: [ 9  4 13  3 71 63  7 65 54 72  5 56 34  1 45 50 23 55 26 69 37 49 66 67\n",
      " 20 43 59 12 27  2 25 29 14 35 64 39 40 11  6 30 70 57 58 16 32 33 10 21\n",
      " 61 15 44 22 24 19 47 62 46 52  8 60 48 28 41 53 68 31 36 17 18 51 38 42]\n",
      "Offer: ['None' 'Offer E' 'Offer D' 'Offer A' 'Offer B' 'Offer C']\n",
      "Phone Service: ['Yes' 'No']\n",
      "Avg Monthly Long Distance Charges: [42.39 10.69 33.65 ... 10.04 25.59  2.01]\n",
      "Multiple Lines: ['No' 'Yes' nan]\n",
      "Internet Service: ['Yes' 'No']\n",
      "Internet Type: ['Cable' 'Fiber Optic' 'DSL' nan]\n",
      "Avg Monthly GB Download: [16. 10. 30.  4. 11. 73. 14.  7. 21. 59. 19. 12. 20. 22. 17.  9. nan 52.\n",
      " 57. 51. 41. 23. 27.  2. 69. 53. 15. 29. 85. 28. 18. 48. 25. 26.  8.  6.\n",
      "  5. 13. 75. 82. 24. 76. 47. 71. 58. 42.  3. 56. 46. 39.]\n",
      "Online Security: ['No' 'Yes' nan]\n",
      "Online Backup: ['Yes' 'No' nan]\n",
      "Device Protection Plan: ['No' 'Yes' nan]\n",
      "Premium Tech Support: ['Yes' 'No' nan]\n",
      "Streaming TV: ['Yes' 'No' nan]\n",
      "Streaming Movies: ['No' 'Yes' nan]\n",
      "Streaming Music: ['No' 'Yes' nan]\n",
      "Unlimited Data: ['Yes' 'No' nan]\n",
      "Contract: ['One Year' 'Month-to-Month' 'Two Year']\n",
      "Paperless Billing: ['Yes' 'No']\n",
      "Payment Method: ['Credit Card' 'Bank Withdrawal' 'Mailed Check']\n",
      "Monthly Charge: [65.6  -4.   73.9  ... 91.75 68.8  67.85]\n",
      "Total Charges: [ 593.3   542.4   280.85 ...  742.9  4627.65 3707.6 ]\n",
      "Total Refunds: [ 0.   38.33 21.25 30.53 44.42 44.9  12.26  6.11 10.23 13.03 36.02 17.91\n",
      "  1.01 16.99 25.24 27.01  9.73 44.53 38.46 16.56  4.73 18.88  8.13  8.74\n",
      " 11.37  1.31 33.8  49.76 16.97 14.21 16.73 49.02  2.28  9.35 41.74 13.01\n",
      " 27.38 23.97 14.23 18.55  1.48  5.15 33.25 41.33 33.43 22.96 11.45 17.17\n",
      " 24.99 26.37 38.42 11.72 29.21 45.75 47.79 29.   15.76 17.6  15.17 14.57\n",
      " 26.32 25.62 20.45 37.06 43.66 28.7  22.34 49.79 46.66  6.26 38.37 49.24\n",
      "  3.55  7.3  16.96  3.85 34.83 23.39 23.72 33.13 43.76 26.02 40.62 48.54\n",
      " 10.76 35.34 14.15 12.81 24.07 45.61 16.89  4.18 33.67 17.96 26.99 20.17\n",
      " 21.81 47.04 12.55 32.65 34.44 36.61 45.44  6.79 48.25 41.66 18.62 20.29\n",
      " 11.05 15.41 49.37 45.07 36.29 33.24 29.17 29.64  6.65  4.7  33.1  31.05\n",
      " 42.57 45.38 25.79 11.8  34.67 36.04 39.68 16.38 36.92 24.08  5.83 45.81\n",
      " 49.06 12.66 41.23 30.14 46.06  3.34 19.31 44.13 35.28 44.17 37.45  3.33\n",
      " 31.58  2.62 36.66 38.84 17.14 12.48 38.65 11.83 22.55 16.27  8.88 18.85\n",
      " 46.99 44.63  1.69  8.96 49.38 24.98 17.76 23.16 16.91 33.73  2.93 48.59\n",
      " 37.37 12.07 31.9  12.59 44.81 26.7  28.63 21.08 13.37  1.09 23.13 37.03\n",
      " 40.95 25.57 44.51  2.18  9.49 49.57 14.3  15.57 17.3   8.35 27.15 37.49\n",
      " 41.18  9.48 28.98 16.85 21.35 13.07 48.95 17.19 46.75 21.52 37.68  5.44\n",
      " 23.89 37.01 36.6  11.85 18.21  5.49 42.18 38.09 28.49  4.25 19.5  28.35\n",
      " 37.55 47.19 46.67 18.17 17.01 27.6   9.22 18.78  9.68 10.28 43.68 44.16\n",
      "  3.51 29.76 21.58 39.99 15.24  5.9  16.86 13.43 47.36  6.72 15.2  24.92\n",
      " 15.73  5.73  3.2   4.93 40.64 27.24 46.07 24.36 19.32 29.88 36.52 17.16\n",
      " 38.15 19.67 29.5  17.03 29.29 10.47 45.6  35.44 29.41  8.3  29.93 20.28\n",
      " 28.09 37.04 45.82 43.25 37.44 40.54 46.39 39.45 18.64 27.09  1.83 47.91\n",
      " 48.79  7.43  5.55  7.39 14.24 47.45 32.71 28.93 15.43 14.67 39.27 25.67\n",
      " 25.49 24.44  2.76 19.16  2.24 38.61 29.11 25.98 43.31 21.9  46.78 20.23\n",
      " 36.4  47.59 41.85 38.57 27.89 29.95 44.31 26.83 45.47 14.78  6.41  4.48\n",
      " 25.84 19.25 36.07 20.16 14.22  9.99 34.69 37.64 45.37 22.97 22.4  15.02\n",
      " 36.13 32.55 43.95 47.73 39.93 23.79 11.    1.99  4.68  2.81 15.31 35.23\n",
      "  5.47 40.79 25.07 48.23  3.26  4.6   1.66 18.89 40.   36.38 35.01 30.75\n",
      " 29.84 45.54 30.45 25.42 49.22 47.87 42.64 39.92  9.39  5.01 43.96 49.53\n",
      " 12.19 49.51 45.69 41.67 27.3  42.34 35.7   8.53 36.44 21.71 38.98 46.64\n",
      " 34.59 19.63 14.93  3.59 23.01 40.41 49.23 40.46 21.72 23.28 28.42 22.53\n",
      " 35.05 43.38 29.59 32.59 30.26 33.07 28.83 42.29 30.46  8.5  46.26 18.72\n",
      " 21.53 25.55 26.87 21.6  17.33 10.7   4.08 41.2  47.2  33.29 17.88 30.22\n",
      " 34.29 34.16 26.84 35.61 18.39 47.02 10.65 42.89 20.87 41.21 16.12 43.12\n",
      " 32.46 12.16 22.72 44.86 16.26 19.89 29.32 44.58 36.78 35.82 32.53 38.34\n",
      " 28.08 23.33 14.49 23.67  2.97 23.47 24.9  48.61 14.76  2.21 27.79 48.09\n",
      " 26.55 21.32 15.38 34.47 38.48  4.76  1.27 17.05 19.12 23.92 34.09  9.79\n",
      " 39.15 29.99 33.21  2.29 32.09 48.66 21.69 11.48 46.81  4.96 18.84 42.43\n",
      " 16.58 10.17 48.26  1.65 23.61  9.34 17.5  12.8  32.24 34.45 15.62 39.18\n",
      " 40.15 39.29 36.22 21.17 25.92 47.55 33.76 23.5  10.57 20.19 44.   46.56\n",
      " 45.46  6.49 19.13 26.98 31.39 16.36  9.36 10.2 ]\n",
      "Total Extra Data Charges: [  0  10  20  40 120 100 130 110  60 140  50  80 150  70  30  90]\n",
      "Total Long Distance Charges: [381.51  96.21 134.6  ... 356.4   37.24 142.04]\n",
      "Total Revenue: [ 974.81  610.28  415.45 ...  129.99 4769.69 3707.6 ]\n",
      "Customer Status: ['Stayed' 'Churned' 'Joined']\n",
      "Churn Category: [nan 'Competitor' 'Dissatisfaction' 'Other' 'Price' 'Attitude']\n",
      "Churn Reason: [nan 'Competitor had better devices' 'Product dissatisfaction'\n",
      " 'Network reliability' 'Limited range of services'\n",
      " 'Competitor made better offer' \"Don't know\" 'Long distance charges'\n",
      " 'Attitude of service provider' 'Attitude of support person'\n",
      " 'Competitor offered higher download speeds'\n",
      " 'Competitor offered more data' 'Lack of affordable download/upload speed'\n",
      " 'Deceased' 'Moved' 'Service dissatisfaction' 'Price too high'\n",
      " 'Lack of self-service on Website' 'Poor expertise of online support'\n",
      " 'Extra data charges' 'Poor expertise of phone support']\n"
     ]
    }
   ],
   "source": [
    "for column in data:\n",
    "    print(f'{column}: {data[column].unique()}')"
   ]
  },
  {
   "cell_type": "code",
   "execution_count": 5,
   "id": "44f7eede",
   "metadata": {},
   "outputs": [],
   "source": [
    "data = data.drop(columns = ['Customer ID', 'City', 'Zip Code', 'Longitude', 'Latitude', 'Avg Monthly Long Distance Charges'])"
   ]
  },
  {
   "cell_type": "code",
   "execution_count": 6,
   "id": "6ae1f25d",
   "metadata": {},
   "outputs": [],
   "source": [
    "data['MRR'] = (data['Total Revenue'] + data['Total Refunds'] - data['Total Extra Data Charges'] - data['Total Long Distance Charges'])/data['Tenure in Months']"
   ]
  },
  {
   "cell_type": "code",
   "execution_count": 7,
   "id": "ca7ae5dd",
   "metadata": {},
   "outputs": [
    {
     "name": "stdout",
     "output_type": "stream",
     "text": [
      "Gender: ['Female' 'Male']\n",
      "Age: [37 46 50 78 75 23 67 52 68 43 47 25 58 32 39 72 79 26 30 22 34 42 64 48\n",
      " 28 33 31 60 69 20 57 19 38 54 35 51 66 61 24 55 59 71 49 40 21 45 29 62\n",
      " 76 77 73 41 56 80 63 53 44 70 74 36 27 65]\n",
      "Married: ['Yes' 'No']\n",
      "Number of Dependents: [0 3 1 2 4 6 5 9 7 8]\n",
      "Number of Referrals: [ 2  0  1  3  8  9 10  5  4  7  6 11]\n",
      "Tenure in Months: [ 9  4 13  3 71 63  7 65 54 72  5 56 34  1 45 50 23 55 26 69 37 49 66 67\n",
      " 20 43 59 12 27  2 25 29 14 35 64 39 40 11  6 30 70 57 58 16 32 33 10 21\n",
      " 61 15 44 22 24 19 47 62 46 52  8 60 48 28 41 53 68 31 36 17 18 51 38 42]\n",
      "Offer: ['None' 'Offer E' 'Offer D' 'Offer A' 'Offer B' 'Offer C']\n",
      "Phone Service: ['Yes' 'No']\n",
      "Multiple Lines: ['No' 'Yes' nan]\n",
      "Internet Service: ['Yes' 'No']\n",
      "Internet Type: ['Cable' 'Fiber Optic' 'DSL' nan]\n",
      "Avg Monthly GB Download: [16. 10. 30.  4. 11. 73. 14.  7. 21. 59. 19. 12. 20. 22. 17.  9. nan 52.\n",
      " 57. 51. 41. 23. 27.  2. 69. 53. 15. 29. 85. 28. 18. 48. 25. 26.  8.  6.\n",
      "  5. 13. 75. 82. 24. 76. 47. 71. 58. 42.  3. 56. 46. 39.]\n",
      "Online Security: ['No' 'Yes' nan]\n",
      "Online Backup: ['Yes' 'No' nan]\n",
      "Device Protection Plan: ['No' 'Yes' nan]\n",
      "Premium Tech Support: ['Yes' 'No' nan]\n",
      "Streaming TV: ['Yes' 'No' nan]\n",
      "Streaming Movies: ['No' 'Yes' nan]\n",
      "Streaming Music: ['No' 'Yes' nan]\n",
      "Unlimited Data: ['Yes' 'No' nan]\n",
      "Contract: ['One Year' 'Month-to-Month' 'Two Year']\n",
      "Paperless Billing: ['Yes' 'No']\n",
      "Payment Method: ['Credit Card' 'Bank Withdrawal' 'Mailed Check']\n",
      "Monthly Charge: [65.6  -4.   73.9  ... 91.75 68.8  67.85]\n",
      "Total Charges: [ 593.3   542.4   280.85 ...  742.9  4627.65 3707.6 ]\n",
      "Total Refunds: [ 0.   38.33 21.25 30.53 44.42 44.9  12.26  6.11 10.23 13.03 36.02 17.91\n",
      "  1.01 16.99 25.24 27.01  9.73 44.53 38.46 16.56  4.73 18.88  8.13  8.74\n",
      " 11.37  1.31 33.8  49.76 16.97 14.21 16.73 49.02  2.28  9.35 41.74 13.01\n",
      " 27.38 23.97 14.23 18.55  1.48  5.15 33.25 41.33 33.43 22.96 11.45 17.17\n",
      " 24.99 26.37 38.42 11.72 29.21 45.75 47.79 29.   15.76 17.6  15.17 14.57\n",
      " 26.32 25.62 20.45 37.06 43.66 28.7  22.34 49.79 46.66  6.26 38.37 49.24\n",
      "  3.55  7.3  16.96  3.85 34.83 23.39 23.72 33.13 43.76 26.02 40.62 48.54\n",
      " 10.76 35.34 14.15 12.81 24.07 45.61 16.89  4.18 33.67 17.96 26.99 20.17\n",
      " 21.81 47.04 12.55 32.65 34.44 36.61 45.44  6.79 48.25 41.66 18.62 20.29\n",
      " 11.05 15.41 49.37 45.07 36.29 33.24 29.17 29.64  6.65  4.7  33.1  31.05\n",
      " 42.57 45.38 25.79 11.8  34.67 36.04 39.68 16.38 36.92 24.08  5.83 45.81\n",
      " 49.06 12.66 41.23 30.14 46.06  3.34 19.31 44.13 35.28 44.17 37.45  3.33\n",
      " 31.58  2.62 36.66 38.84 17.14 12.48 38.65 11.83 22.55 16.27  8.88 18.85\n",
      " 46.99 44.63  1.69  8.96 49.38 24.98 17.76 23.16 16.91 33.73  2.93 48.59\n",
      " 37.37 12.07 31.9  12.59 44.81 26.7  28.63 21.08 13.37  1.09 23.13 37.03\n",
      " 40.95 25.57 44.51  2.18  9.49 49.57 14.3  15.57 17.3   8.35 27.15 37.49\n",
      " 41.18  9.48 28.98 16.85 21.35 13.07 48.95 17.19 46.75 21.52 37.68  5.44\n",
      " 23.89 37.01 36.6  11.85 18.21  5.49 42.18 38.09 28.49  4.25 19.5  28.35\n",
      " 37.55 47.19 46.67 18.17 17.01 27.6   9.22 18.78  9.68 10.28 43.68 44.16\n",
      "  3.51 29.76 21.58 39.99 15.24  5.9  16.86 13.43 47.36  6.72 15.2  24.92\n",
      " 15.73  5.73  3.2   4.93 40.64 27.24 46.07 24.36 19.32 29.88 36.52 17.16\n",
      " 38.15 19.67 29.5  17.03 29.29 10.47 45.6  35.44 29.41  8.3  29.93 20.28\n",
      " 28.09 37.04 45.82 43.25 37.44 40.54 46.39 39.45 18.64 27.09  1.83 47.91\n",
      " 48.79  7.43  5.55  7.39 14.24 47.45 32.71 28.93 15.43 14.67 39.27 25.67\n",
      " 25.49 24.44  2.76 19.16  2.24 38.61 29.11 25.98 43.31 21.9  46.78 20.23\n",
      " 36.4  47.59 41.85 38.57 27.89 29.95 44.31 26.83 45.47 14.78  6.41  4.48\n",
      " 25.84 19.25 36.07 20.16 14.22  9.99 34.69 37.64 45.37 22.97 22.4  15.02\n",
      " 36.13 32.55 43.95 47.73 39.93 23.79 11.    1.99  4.68  2.81 15.31 35.23\n",
      "  5.47 40.79 25.07 48.23  3.26  4.6   1.66 18.89 40.   36.38 35.01 30.75\n",
      " 29.84 45.54 30.45 25.42 49.22 47.87 42.64 39.92  9.39  5.01 43.96 49.53\n",
      " 12.19 49.51 45.69 41.67 27.3  42.34 35.7   8.53 36.44 21.71 38.98 46.64\n",
      " 34.59 19.63 14.93  3.59 23.01 40.41 49.23 40.46 21.72 23.28 28.42 22.53\n",
      " 35.05 43.38 29.59 32.59 30.26 33.07 28.83 42.29 30.46  8.5  46.26 18.72\n",
      " 21.53 25.55 26.87 21.6  17.33 10.7   4.08 41.2  47.2  33.29 17.88 30.22\n",
      " 34.29 34.16 26.84 35.61 18.39 47.02 10.65 42.89 20.87 41.21 16.12 43.12\n",
      " 32.46 12.16 22.72 44.86 16.26 19.89 29.32 44.58 36.78 35.82 32.53 38.34\n",
      " 28.08 23.33 14.49 23.67  2.97 23.47 24.9  48.61 14.76  2.21 27.79 48.09\n",
      " 26.55 21.32 15.38 34.47 38.48  4.76  1.27 17.05 19.12 23.92 34.09  9.79\n",
      " 39.15 29.99 33.21  2.29 32.09 48.66 21.69 11.48 46.81  4.96 18.84 42.43\n",
      " 16.58 10.17 48.26  1.65 23.61  9.34 17.5  12.8  32.24 34.45 15.62 39.18\n",
      " 40.15 39.29 36.22 21.17 25.92 47.55 33.76 23.5  10.57 20.19 44.   46.56\n",
      " 45.46  6.49 19.13 26.98 31.39 16.36  9.36 10.2 ]\n",
      "Total Extra Data Charges: [  0  10  20  40 120 100 130 110  60 140  50  80 150  70  30  90]\n",
      "Total Long Distance Charges: [381.51  96.21 134.6  ... 356.4   37.24 142.04]\n",
      "Total Revenue: [ 974.81  610.28  415.45 ...  129.99 4769.69 3707.6 ]\n",
      "Customer Status: ['Stayed' 'Churned' 'Joined']\n",
      "Churn Category: [nan 'Competitor' 'Dissatisfaction' 'Other' 'Price' 'Attitude']\n",
      "Churn Reason: [nan 'Competitor had better devices' 'Product dissatisfaction'\n",
      " 'Network reliability' 'Limited range of services'\n",
      " 'Competitor made better offer' \"Don't know\" 'Long distance charges'\n",
      " 'Attitude of service provider' 'Attitude of support person'\n",
      " 'Competitor offered higher download speeds'\n",
      " 'Competitor offered more data' 'Lack of affordable download/upload speed'\n",
      " 'Deceased' 'Moved' 'Service dissatisfaction' 'Price too high'\n",
      " 'Lack of self-service on Website' 'Poor expertise of online support'\n",
      " 'Extra data charges' 'Poor expertise of phone support']\n",
      "MRR: [65.92222222 60.26666667 70.2125     ... 46.375      69.06940299\n",
      " 58.85079365]\n"
     ]
    }
   ],
   "source": [
    "for column in data:\n",
    "    print(f'{column}: {data[column].unique()}')"
   ]
  },
  {
   "cell_type": "code",
   "execution_count": 8,
   "id": "1eab02f2",
   "metadata": {},
   "outputs": [],
   "source": [
    "columns_null = []\n",
    "for column in data:\n",
    "    for x in data[column]:\n",
    "        if pd.isna(x):\n",
    "            columns_null.append(column)\n",
    "            break"
   ]
  },
  {
   "cell_type": "code",
   "execution_count": 9,
   "id": "f42d814f",
   "metadata": {},
   "outputs": [],
   "source": [
    "data[columns_null] = data[columns_null].replace(np.nan,'No')"
   ]
  },
  {
   "cell_type": "code",
   "execution_count": 10,
   "id": "e3c9013d",
   "metadata": {},
   "outputs": [
    {
     "data": {
      "text/plain": [
       "Index(['Gender', 'Age', 'Married', 'Number of Dependents',\n",
       "       'Number of Referrals', 'Tenure in Months', 'Offer', 'Phone Service',\n",
       "       'Multiple Lines', 'Internet Service', 'Internet Type',\n",
       "       'Avg Monthly GB Download', 'Online Security', 'Online Backup',\n",
       "       'Device Protection Plan', 'Premium Tech Support', 'Streaming TV',\n",
       "       'Streaming Movies', 'Streaming Music', 'Unlimited Data', 'Contract',\n",
       "       'Paperless Billing', 'Payment Method', 'Monthly Charge',\n",
       "       'Total Charges', 'Total Refunds', 'Total Extra Data Charges',\n",
       "       'Total Long Distance Charges', 'Total Revenue', 'Customer Status',\n",
       "       'Churn Category', 'Churn Reason', 'MRR'],\n",
       "      dtype='object')"
      ]
     },
     "execution_count": 10,
     "metadata": {},
     "output_type": "execute_result"
    }
   ],
   "source": [
    "data.columns"
   ]
  },
  {
   "cell_type": "code",
   "execution_count": 11,
   "id": "3a63efba",
   "metadata": {},
   "outputs": [],
   "source": [
    "df = data.drop(columns=['Gender', 'Age','Number of Referrals','Offer', 'Internet Type', 'Avg Monthly GB Download', 'Paperless Billing', 'Payment Method', 'Monthly Charge','Total Charges', 'Total Refunds', 'Total Extra Data Charges',\n",
    "       'Total Long Distance Charges', 'Total Revenue','Churn Category', 'Churn Reason'])"
   ]
  },
  {
   "cell_type": "code",
   "execution_count": 12,
   "id": "ef6940f2",
   "metadata": {},
   "outputs": [
    {
     "name": "stdout",
     "output_type": "stream",
     "text": [
      "Married: ['Yes' 'No']\n",
      "Number of Dependents: [0 3 1 2 4 6 5 9 7 8]\n",
      "Tenure in Months: [ 9  4 13  3 71 63  7 65 54 72  5 56 34  1 45 50 23 55 26 69 37 49 66 67\n",
      " 20 43 59 12 27  2 25 29 14 35 64 39 40 11  6 30 70 57 58 16 32 33 10 21\n",
      " 61 15 44 22 24 19 47 62 46 52  8 60 48 28 41 53 68 31 36 17 18 51 38 42]\n",
      "Phone Service: ['Yes' 'No']\n",
      "Multiple Lines: ['No' 'Yes']\n",
      "Internet Service: ['Yes' 'No']\n",
      "Online Security: ['No' 'Yes']\n",
      "Online Backup: ['Yes' 'No']\n",
      "Device Protection Plan: ['No' 'Yes']\n",
      "Premium Tech Support: ['Yes' 'No']\n",
      "Streaming TV: ['Yes' 'No']\n",
      "Streaming Movies: ['No' 'Yes']\n",
      "Streaming Music: ['No' 'Yes']\n",
      "Unlimited Data: ['Yes' 'No']\n",
      "Contract: ['One Year' 'Month-to-Month' 'Two Year']\n",
      "Customer Status: ['Stayed' 'Churned' 'Joined']\n",
      "MRR: [65.92222222 60.26666667 70.2125     ... 46.375      69.06940299\n",
      " 58.85079365]\n"
     ]
    }
   ],
   "source": [
    "for column in df:\n",
    "    print(f'{column}: {df[column].unique()}')"
   ]
  },
  {
   "cell_type": "code",
   "execution_count": 13,
   "id": "ac690333",
   "metadata": {},
   "outputs": [
    {
     "name": "stdout",
     "output_type": "stream",
     "text": [
      "Married: [1 0]\n",
      "Number of Dependents: [0 1]\n",
      "Tenure in Months: [ 9  4 13  3 71 63  7 65 54 72  5 56 34  1 45 50 23 55 26 69 37 49 66 67\n",
      " 20 43 59 12 27  2 25 29 14 35 64 39 40 11  6 30 70 57 58 16 32 33 10 21\n",
      " 61 15 44 22 24 19 47 62 46 52  8 60 48 28 41 53 68 31 36 17 18 51 38 42]\n",
      "Phone Service: [1 0]\n",
      "Multiple Lines: [0 1]\n",
      "Internet Service: [1 0]\n",
      "Online Security: [0 1]\n",
      "Online Backup: [1 0]\n",
      "Device Protection Plan: [0 1]\n",
      "Premium Tech Support: [1 0]\n",
      "Streaming TV: [1 0]\n",
      "Streaming Movies: [0 1]\n",
      "Streaming Music: [0 1]\n",
      "Unlimited Data: [1 0]\n",
      "Contract: ['One Year' 'Month-to-Month' 'Two Year']\n",
      "Customer Status: [0 1]\n",
      "MRR: [65.92222222 60.26666667 70.2125     ... 46.375      69.06940299\n",
      " 58.85079365]\n"
     ]
    }
   ],
   "source": [
    "df = df.replace(['Yes', 'No'],[1,0])\n",
    "df = df.replace({'Customer Status': {'Churned': 1, 'Joined': 0, 'Stayed':0}})\n",
    "df['Number of Dependents'] = df['Number of Dependents'].replace([3, 1, 2, 4, 6, 5, 9, 7, 8], 1)\n",
    "for column in df:\n",
    "    print(f'{column}: {df[column].unique()}')"
   ]
  },
  {
   "cell_type": "code",
   "execution_count": 14,
   "id": "04e22c77",
   "metadata": {},
   "outputs": [],
   "source": [
    "scaler = MinMaxScaler()"
   ]
  },
  {
   "cell_type": "code",
   "execution_count": 15,
   "id": "a7cdeb65",
   "metadata": {},
   "outputs": [],
   "source": [
    "cols_to_scale = ['Tenure in Months','MRR']\n",
    "df[cols_to_scale] = scaler.fit_transform(df[cols_to_scale]) "
   ]
  },
  {
   "cell_type": "code",
   "execution_count": 16,
   "id": "9335cd7e",
   "metadata": {},
   "outputs": [
    {
     "name": "stdout",
     "output_type": "stream",
     "text": [
      "Married: [1 0]\n",
      "Number of Dependents: [0 1]\n",
      "Tenure in Months: [0.11267606 0.04225352 0.16901408 0.02816901 0.98591549 0.87323944\n",
      " 0.08450704 0.90140845 0.74647887 1.         0.05633803 0.77464789\n",
      " 0.46478873 0.         0.61971831 0.69014085 0.30985915 0.76056338\n",
      " 0.35211268 0.95774648 0.50704225 0.67605634 0.91549296 0.92957746\n",
      " 0.26760563 0.5915493  0.81690141 0.15492958 0.36619718 0.01408451\n",
      " 0.33802817 0.3943662  0.18309859 0.47887324 0.88732394 0.53521127\n",
      " 0.54929577 0.14084507 0.07042254 0.4084507  0.97183099 0.78873239\n",
      " 0.8028169  0.21126761 0.43661972 0.45070423 0.12676056 0.28169014\n",
      " 0.84507042 0.1971831  0.6056338  0.29577465 0.32394366 0.25352113\n",
      " 0.64788732 0.85915493 0.63380282 0.71830986 0.09859155 0.83098592\n",
      " 0.66197183 0.38028169 0.56338028 0.73239437 0.94366197 0.42253521\n",
      " 0.49295775 0.22535211 0.23943662 0.70422535 0.52112676 0.57746479]\n",
      "Phone Service: [1 0]\n",
      "Multiple Lines: [0 1]\n",
      "Internet Service: [1 0]\n",
      "Online Security: [0 1]\n",
      "Online Backup: [1 0]\n",
      "Device Protection Plan: [0 1]\n",
      "Premium Tech Support: [1 0]\n",
      "Streaming TV: [1 0]\n",
      "Streaming Movies: [0 1]\n",
      "Streaming Music: [0 1]\n",
      "Unlimited Data: [1 0]\n",
      "Contract: ['One Year' 'Month-to-Month' 'Two Year']\n",
      "Customer Status: [0 1]\n",
      "MRR: [0.48452704 0.43197832 0.52439024 ... 0.3029036  0.51376913 0.41882271]\n"
     ]
    }
   ],
   "source": [
    "for column in df:\n",
    "    print(f'{column}: {df[column].unique()}')"
   ]
  },
  {
   "cell_type": "code",
   "execution_count": 17,
   "id": "427acef9",
   "metadata": {},
   "outputs": [],
   "source": [
    "reg_data = pd.get_dummies(data=df, columns=['Contract'])"
   ]
  },
  {
   "cell_type": "code",
   "execution_count": 18,
   "id": "90d43e9d",
   "metadata": {
    "scrolled": false
   },
   "outputs": [],
   "source": [
    "X_train, X_test, y_train, y_test = train_test_split(reg_data.drop(columns=['Customer Status']),reg_data[['Customer Status']],test_size = 0.15)"
   ]
  },
  {
   "cell_type": "code",
   "execution_count": 19,
   "id": "ea0a81f4",
   "metadata": {},
   "outputs": [
    {
     "data": {
      "text/plain": [
       "LogisticRegression(max_iter=1000)"
      ]
     },
     "execution_count": 19,
     "metadata": {},
     "output_type": "execute_result"
    }
   ],
   "source": [
    "LogReg = LogisticRegression(solver='lbfgs', max_iter=1000)\n",
    "LogReg.fit(X_train,y_train.values.ravel())"
   ]
  },
  {
   "cell_type": "code",
   "execution_count": 20,
   "id": "51d3e310",
   "metadata": {},
   "outputs": [
    {
     "data": {
      "text/plain": [
       "0.8306527909176916"
      ]
     },
     "execution_count": 20,
     "metadata": {},
     "output_type": "execute_result"
    }
   ],
   "source": [
    "LogReg.score(X_test, y_test)"
   ]
  },
  {
   "cell_type": "code",
   "execution_count": 21,
   "id": "9c15fe58",
   "metadata": {},
   "outputs": [
    {
     "data": {
      "text/plain": [
       "array([-1.52218286])"
      ]
     },
     "execution_count": 21,
     "metadata": {},
     "output_type": "execute_result"
    }
   ],
   "source": [
    "LogReg.intercept_"
   ]
  },
  {
   "cell_type": "code",
   "execution_count": 22,
   "id": "8c22903e",
   "metadata": {},
   "outputs": [
    {
     "data": {
      "text/plain": [
       "array([[ 0.32488086, -1.55603368, -2.01441321, -1.01539802,  0.21539832,\n",
       "         0.24742053, -0.58706194, -0.25780914, -0.16663093, -0.50868767,\n",
       "         0.05441117,  0.12079477, -0.07581146, -0.02212437,  3.29044529,\n",
       "         1.21993477, -0.03291127, -1.18797287]])"
      ]
     },
     "execution_count": 22,
     "metadata": {},
     "output_type": "execute_result"
    }
   ],
   "source": [
    "LogReg.coef_"
   ]
  },
  {
   "cell_type": "code",
   "execution_count": 23,
   "id": "897ef6d9",
   "metadata": {},
   "outputs": [
    {
     "data": {
      "text/plain": [
       "Index(['Married', 'Number of Dependents', 'Tenure in Months', 'Phone Service',\n",
       "       'Multiple Lines', 'Internet Service', 'Online Security',\n",
       "       'Online Backup', 'Device Protection Plan', 'Premium Tech Support',\n",
       "       'Streaming TV', 'Streaming Movies', 'Streaming Music', 'Unlimited Data',\n",
       "       'Customer Status', 'MRR', 'Contract_Month-to-Month',\n",
       "       'Contract_One Year', 'Contract_Two Year'],\n",
       "      dtype='object')"
      ]
     },
     "execution_count": 23,
     "metadata": {},
     "output_type": "execute_result"
    }
   ],
   "source": [
    "reg_data.columns"
   ]
  },
  {
   "cell_type": "code",
   "execution_count": 24,
   "id": "e1f82caf",
   "metadata": {},
   "outputs": [
    {
     "data": {
      "text/plain": [
       "array([0, 0, 0, ..., 1, 0, 0])"
      ]
     },
     "execution_count": 24,
     "metadata": {},
     "output_type": "execute_result"
    }
   ],
   "source": [
    "LogReg.predict(X_test)"
   ]
  },
  {
   "cell_type": "code",
   "execution_count": 25,
   "id": "e50f012f",
   "metadata": {},
   "outputs": [
    {
     "data": {
      "text/html": [
       "<div>\n",
       "<style scoped>\n",
       "    .dataframe tbody tr th:only-of-type {\n",
       "        vertical-align: middle;\n",
       "    }\n",
       "\n",
       "    .dataframe tbody tr th {\n",
       "        vertical-align: top;\n",
       "    }\n",
       "\n",
       "    .dataframe thead th {\n",
       "        text-align: right;\n",
       "    }\n",
       "</style>\n",
       "<table border=\"1\" class=\"dataframe\">\n",
       "  <thead>\n",
       "    <tr style=\"text-align: right;\">\n",
       "      <th></th>\n",
       "      <th>Married</th>\n",
       "      <th>Number of Dependents</th>\n",
       "      <th>Tenure in Months</th>\n",
       "      <th>Phone Service</th>\n",
       "      <th>Multiple Lines</th>\n",
       "      <th>Internet Service</th>\n",
       "      <th>Online Security</th>\n",
       "      <th>Online Backup</th>\n",
       "      <th>Device Protection Plan</th>\n",
       "      <th>Premium Tech Support</th>\n",
       "      <th>Streaming TV</th>\n",
       "      <th>Streaming Movies</th>\n",
       "      <th>Streaming Music</th>\n",
       "      <th>Unlimited Data</th>\n",
       "      <th>MRR</th>\n",
       "      <th>Contract_Month-to-Month</th>\n",
       "      <th>Contract_One Year</th>\n",
       "      <th>Contract_Two Year</th>\n",
       "    </tr>\n",
       "  </thead>\n",
       "  <tbody>\n",
       "    <tr>\n",
       "      <th>4382</th>\n",
       "      <td>1</td>\n",
       "      <td>0</td>\n",
       "      <td>1.000000</td>\n",
       "      <td>1</td>\n",
       "      <td>1</td>\n",
       "      <td>1</td>\n",
       "      <td>1</td>\n",
       "      <td>1</td>\n",
       "      <td>1</td>\n",
       "      <td>0</td>\n",
       "      <td>1</td>\n",
       "      <td>0</td>\n",
       "      <td>0</td>\n",
       "      <td>1</td>\n",
       "      <td>0.790095</td>\n",
       "      <td>0</td>\n",
       "      <td>0</td>\n",
       "      <td>1</td>\n",
       "    </tr>\n",
       "    <tr>\n",
       "      <th>4364</th>\n",
       "      <td>1</td>\n",
       "      <td>0</td>\n",
       "      <td>0.112676</td>\n",
       "      <td>0</td>\n",
       "      <td>0</td>\n",
       "      <td>1</td>\n",
       "      <td>0</td>\n",
       "      <td>0</td>\n",
       "      <td>0</td>\n",
       "      <td>0</td>\n",
       "      <td>0</td>\n",
       "      <td>0</td>\n",
       "      <td>0</td>\n",
       "      <td>1</td>\n",
       "      <td>0.140225</td>\n",
       "      <td>0</td>\n",
       "      <td>1</td>\n",
       "      <td>0</td>\n",
       "    </tr>\n",
       "    <tr>\n",
       "      <th>2665</th>\n",
       "      <td>1</td>\n",
       "      <td>0</td>\n",
       "      <td>1.000000</td>\n",
       "      <td>1</td>\n",
       "      <td>1</td>\n",
       "      <td>1</td>\n",
       "      <td>1</td>\n",
       "      <td>1</td>\n",
       "      <td>0</td>\n",
       "      <td>0</td>\n",
       "      <td>1</td>\n",
       "      <td>1</td>\n",
       "      <td>1</td>\n",
       "      <td>0</td>\n",
       "      <td>0.862769</td>\n",
       "      <td>0</td>\n",
       "      <td>1</td>\n",
       "      <td>0</td>\n",
       "    </tr>\n",
       "    <tr>\n",
       "      <th>5488</th>\n",
       "      <td>1</td>\n",
       "      <td>0</td>\n",
       "      <td>1.000000</td>\n",
       "      <td>0</td>\n",
       "      <td>0</td>\n",
       "      <td>1</td>\n",
       "      <td>1</td>\n",
       "      <td>0</td>\n",
       "      <td>1</td>\n",
       "      <td>1</td>\n",
       "      <td>1</td>\n",
       "      <td>1</td>\n",
       "      <td>1</td>\n",
       "      <td>1</td>\n",
       "      <td>0.459059</td>\n",
       "      <td>0</td>\n",
       "      <td>0</td>\n",
       "      <td>1</td>\n",
       "    </tr>\n",
       "    <tr>\n",
       "      <th>1912</th>\n",
       "      <td>0</td>\n",
       "      <td>0</td>\n",
       "      <td>0.169014</td>\n",
       "      <td>1</td>\n",
       "      <td>0</td>\n",
       "      <td>0</td>\n",
       "      <td>0</td>\n",
       "      <td>0</td>\n",
       "      <td>0</td>\n",
       "      <td>0</td>\n",
       "      <td>0</td>\n",
       "      <td>0</td>\n",
       "      <td>0</td>\n",
       "      <td>0</td>\n",
       "      <td>0.065130</td>\n",
       "      <td>0</td>\n",
       "      <td>1</td>\n",
       "      <td>0</td>\n",
       "    </tr>\n",
       "    <tr>\n",
       "      <th>...</th>\n",
       "      <td>...</td>\n",
       "      <td>...</td>\n",
       "      <td>...</td>\n",
       "      <td>...</td>\n",
       "      <td>...</td>\n",
       "      <td>...</td>\n",
       "      <td>...</td>\n",
       "      <td>...</td>\n",
       "      <td>...</td>\n",
       "      <td>...</td>\n",
       "      <td>...</td>\n",
       "      <td>...</td>\n",
       "      <td>...</td>\n",
       "      <td>...</td>\n",
       "      <td>...</td>\n",
       "      <td>...</td>\n",
       "      <td>...</td>\n",
       "      <td>...</td>\n",
       "    </tr>\n",
       "    <tr>\n",
       "      <th>1441</th>\n",
       "      <td>1</td>\n",
       "      <td>0</td>\n",
       "      <td>0.816901</td>\n",
       "      <td>1</td>\n",
       "      <td>1</td>\n",
       "      <td>1</td>\n",
       "      <td>0</td>\n",
       "      <td>0</td>\n",
       "      <td>1</td>\n",
       "      <td>1</td>\n",
       "      <td>1</td>\n",
       "      <td>0</td>\n",
       "      <td>0</td>\n",
       "      <td>1</td>\n",
       "      <td>0.532629</td>\n",
       "      <td>0</td>\n",
       "      <td>0</td>\n",
       "      <td>1</td>\n",
       "    </tr>\n",
       "    <tr>\n",
       "      <th>510</th>\n",
       "      <td>1</td>\n",
       "      <td>1</td>\n",
       "      <td>0.704225</td>\n",
       "      <td>0</td>\n",
       "      <td>0</td>\n",
       "      <td>1</td>\n",
       "      <td>0</td>\n",
       "      <td>0</td>\n",
       "      <td>1</td>\n",
       "      <td>1</td>\n",
       "      <td>1</td>\n",
       "      <td>1</td>\n",
       "      <td>1</td>\n",
       "      <td>1</td>\n",
       "      <td>0.400159</td>\n",
       "      <td>0</td>\n",
       "      <td>1</td>\n",
       "      <td>0</td>\n",
       "    </tr>\n",
       "    <tr>\n",
       "      <th>379</th>\n",
       "      <td>0</td>\n",
       "      <td>0</td>\n",
       "      <td>0.112676</td>\n",
       "      <td>1</td>\n",
       "      <td>1</td>\n",
       "      <td>1</td>\n",
       "      <td>0</td>\n",
       "      <td>0</td>\n",
       "      <td>0</td>\n",
       "      <td>0</td>\n",
       "      <td>1</td>\n",
       "      <td>1</td>\n",
       "      <td>1</td>\n",
       "      <td>1</td>\n",
       "      <td>0.727965</td>\n",
       "      <td>1</td>\n",
       "      <td>0</td>\n",
       "      <td>0</td>\n",
       "    </tr>\n",
       "    <tr>\n",
       "      <th>5167</th>\n",
       "      <td>0</td>\n",
       "      <td>0</td>\n",
       "      <td>0.760563</td>\n",
       "      <td>1</td>\n",
       "      <td>0</td>\n",
       "      <td>1</td>\n",
       "      <td>0</td>\n",
       "      <td>0</td>\n",
       "      <td>0</td>\n",
       "      <td>0</td>\n",
       "      <td>0</td>\n",
       "      <td>0</td>\n",
       "      <td>0</td>\n",
       "      <td>1</td>\n",
       "      <td>0.288033</td>\n",
       "      <td>0</td>\n",
       "      <td>1</td>\n",
       "      <td>0</td>\n",
       "    </tr>\n",
       "    <tr>\n",
       "      <th>3285</th>\n",
       "      <td>0</td>\n",
       "      <td>0</td>\n",
       "      <td>0.028169</td>\n",
       "      <td>1</td>\n",
       "      <td>0</td>\n",
       "      <td>0</td>\n",
       "      <td>0</td>\n",
       "      <td>0</td>\n",
       "      <td>0</td>\n",
       "      <td>0</td>\n",
       "      <td>0</td>\n",
       "      <td>0</td>\n",
       "      <td>0</td>\n",
       "      <td>0</td>\n",
       "      <td>0.061092</td>\n",
       "      <td>1</td>\n",
       "      <td>0</td>\n",
       "      <td>0</td>\n",
       "    </tr>\n",
       "  </tbody>\n",
       "</table>\n",
       "<p>1057 rows × 18 columns</p>\n",
       "</div>"
      ],
      "text/plain": [
       "      Married  Number of Dependents  Tenure in Months  Phone Service  \\\n",
       "4382        1                     0          1.000000              1   \n",
       "4364        1                     0          0.112676              0   \n",
       "2665        1                     0          1.000000              1   \n",
       "5488        1                     0          1.000000              0   \n",
       "1912        0                     0          0.169014              1   \n",
       "...       ...                   ...               ...            ...   \n",
       "1441        1                     0          0.816901              1   \n",
       "510         1                     1          0.704225              0   \n",
       "379         0                     0          0.112676              1   \n",
       "5167        0                     0          0.760563              1   \n",
       "3285        0                     0          0.028169              1   \n",
       "\n",
       "      Multiple Lines  Internet Service  Online Security  Online Backup  \\\n",
       "4382               1                 1                1              1   \n",
       "4364               0                 1                0              0   \n",
       "2665               1                 1                1              1   \n",
       "5488               0                 1                1              0   \n",
       "1912               0                 0                0              0   \n",
       "...              ...               ...              ...            ...   \n",
       "1441               1                 1                0              0   \n",
       "510                0                 1                0              0   \n",
       "379                1                 1                0              0   \n",
       "5167               0                 1                0              0   \n",
       "3285               0                 0                0              0   \n",
       "\n",
       "      Device Protection Plan  Premium Tech Support  Streaming TV  \\\n",
       "4382                       1                     0             1   \n",
       "4364                       0                     0             0   \n",
       "2665                       0                     0             1   \n",
       "5488                       1                     1             1   \n",
       "1912                       0                     0             0   \n",
       "...                      ...                   ...           ...   \n",
       "1441                       1                     1             1   \n",
       "510                        1                     1             1   \n",
       "379                        0                     0             1   \n",
       "5167                       0                     0             0   \n",
       "3285                       0                     0             0   \n",
       "\n",
       "      Streaming Movies  Streaming Music  Unlimited Data       MRR  \\\n",
       "4382                 0                0               1  0.790095   \n",
       "4364                 0                0               1  0.140225   \n",
       "2665                 1                1               0  0.862769   \n",
       "5488                 1                1               1  0.459059   \n",
       "1912                 0                0               0  0.065130   \n",
       "...                ...              ...             ...       ...   \n",
       "1441                 0                0               1  0.532629   \n",
       "510                  1                1               1  0.400159   \n",
       "379                  1                1               1  0.727965   \n",
       "5167                 0                0               1  0.288033   \n",
       "3285                 0                0               0  0.061092   \n",
       "\n",
       "      Contract_Month-to-Month  Contract_One Year  Contract_Two Year  \n",
       "4382                        0                  0                  1  \n",
       "4364                        0                  1                  0  \n",
       "2665                        0                  1                  0  \n",
       "5488                        0                  0                  1  \n",
       "1912                        0                  1                  0  \n",
       "...                       ...                ...                ...  \n",
       "1441                        0                  0                  1  \n",
       "510                         0                  1                  0  \n",
       "379                         1                  0                  0  \n",
       "5167                        0                  1                  0  \n",
       "3285                        1                  0                  0  \n",
       "\n",
       "[1057 rows x 18 columns]"
      ]
     },
     "execution_count": 25,
     "metadata": {},
     "output_type": "execute_result"
    }
   ],
   "source": [
    "X_test"
   ]
  },
  {
   "cell_type": "code",
   "execution_count": null,
   "id": "04a2c0a4",
   "metadata": {},
   "outputs": [],
   "source": []
  }
 ],
 "metadata": {
  "kernelspec": {
   "display_name": "Python 3 (ipykernel)",
   "language": "python",
   "name": "python3"
  },
  "language_info": {
   "codemirror_mode": {
    "name": "ipython",
    "version": 3
   },
   "file_extension": ".py",
   "mimetype": "text/x-python",
   "name": "python",
   "nbconvert_exporter": "python",
   "pygments_lexer": "ipython3",
   "version": "3.9.12"
  }
 },
 "nbformat": 4,
 "nbformat_minor": 5
}
